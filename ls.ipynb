{
 "cells": [
  {
   "cell_type": "code",
   "execution_count": 4,
   "id": "59bd3eae",
   "metadata": {},
   "outputs": [
    {
     "name": "stdout",
     "output_type": "stream",
     "text": [
      "(1,5)\n",
      "(1,5)\n",
      "(7,-1)\n"
     ]
    }
   ],
   "source": [
    "#write program to find all pairs of an integer array whose sum is equal to a given number?\n",
    "def find_pairs(array,n,sum):\n",
    "    for i in range(0,n):\n",
    "        for j in range(i+1,n):\n",
    "            if(array[i]+array[j]==sum):\n",
    "                print(\"(\",array[i], \",\",array[j],\")\",sep=\"\")\n",
    "array=[1,5,7,-1,5]\n",
    "n=len(array)\n",
    "sum=6\n",
    "find_pairs(array,n,sum)\n",
    "        "
   ]
  },
  {
   "cell_type": "code",
   "execution_count": 10,
   "id": "1e7659f9",
   "metadata": {},
   "outputs": [
    {
     "name": "stdout",
     "output_type": "stream",
     "text": [
      "original array is-: [1, 2, 3, 4, 5, 6]\n",
      "reversed array is -: [6, 5, 4, 3, 2, 1]\n"
     ]
    }
   ],
   "source": [
    "#write a program to reverse an array in place?in place means you cannat create new array\n",
    "#you have to update the original array \n",
    "def reverselist(x,start,end):\n",
    "    while start<end:\n",
    "        x[start],x[end]=x[end],x[start]\n",
    "        start=start+1\n",
    "        end=end-1\n",
    "x=[1,2,3,4,5,6]\n",
    "print(\"original array is-:\",(x))\n",
    "reverselist(x,0,5)\n",
    "print(\"reversed array is -:\",(x))"
   ]
  },
  {
   "cell_type": "code",
   "execution_count": 2,
   "id": "06e3232f",
   "metadata": {},
   "outputs": [
    {
     "name": "stdout",
     "output_type": "stream",
     "text": [
      "Strings are rotations of each other\n"
     ]
    }
   ],
   "source": [
    "#write a program to check if two strings are a rotation of each other?\n",
    "# Python3 program for the above approach\n",
    "# Python3 program for the above approach\n",
    "def checkString(s1, s2, indexFound, Size):\n",
    "\n",
    "    for i in range(Size):\n",
    "\n",
    "        if(s1[i] != s2[(indexFound + i) % Size]):\n",
    "\n",
    "            return False\n",
    "\n",
    "    return True\n",
    "\n",
    "s1 = \"abcd\"\n",
    "\n",
    "s2 = \"cdab\"\n",
    " \n",
    "if(len(s1) != len(s2)):\n",
    "\n",
    "    print(\"s2 is not a rotation on s1\")\n",
    "else:\n",
    "\n",
    "    indexes = [] \n",
    "\n",
    "    Size = len(s1)\n",
    "\n",
    "    firstChar = s1[0]\n",
    "\n",
    "    for i in range(Size):\n",
    "\n",
    "        if(s2[i] == firstChar):\n",
    "\n",
    "            indexes.append(i)\n",
    " \n",
    "\n",
    "    isRotation = False\n",
    "\n",
    "    for idx in indexes:\n",
    "        isRotation = checkString(s1, s2, idx, Size)\n",
    "        if(isRotation):\n",
    "            break\n",
    "    if(isRotation):\n",
    "        print(\"Strings are rotations of each other\")\n",
    "    else:\n",
    "        print(\"Strings are not roataion of each other\")"
   ]
  },
  {
   "cell_type": "code",
   "execution_count": 9,
   "id": "54ee3fa6",
   "metadata": {},
   "outputs": [
    {
     "name": "stdout",
     "output_type": "stream",
     "text": [
      "First non-repeating character in  algorithm =' a '\n"
     ]
    }
   ],
   "source": [
    "#write a program to print the first non repeated character from a string?\n",
    "string = \"algorithm\"\n",
    "index = -1\n",
    "fnc = \"\"\n",
    "for i in string:\n",
    "    if string.count(i) == 1:\n",
    "        fnc += i\n",
    "        break\n",
    "    else:\n",
    "        index += 1\n",
    "if index == 1:\n",
    "    print(\"Either all characters are repeating or string is empty\")\n",
    "else:\n",
    "    print(\"First non-repeating character in \",string,\"='\",fnc,\"'\")"
   ]
  },
  {
   "cell_type": "code",
   "execution_count": 10,
   "id": "5cc56c56",
   "metadata": {},
   "outputs": [
    {
     "name": "stdout",
     "output_type": "stream",
     "text": [
      "Move disk 1 from rod A to rod C\n",
      "Move disk 2 from rod A to rod B\n",
      "Move disk 1 from rod C to rod B\n",
      "Move disk 3 from rod A to rod C\n",
      "Move disk 1 from rod B to rod A\n",
      "Move disk 2 from rod B to rod C\n",
      "Move disk 1 from rod A to rod C\n"
     ]
    }
   ],
   "source": [
    "#read about the tower of hanoi algorithm.write a program to implement it.\n",
    "def TowerOfHanoi(n, from_rod, to_rod, aux_rod):\n",
    "    if n == 0:\n",
    "        return\n",
    "    TowerOfHanoi(n-1, from_rod, aux_rod, to_rod)\n",
    "    print(\"Move disk\", n, \"from rod\", from_rod, \"to rod\", to_rod)\n",
    "    TowerOfHanoi(n-1, aux_rod, to_rod, from_rod)\n",
    " \n",
    " \n",
    "# Driver code\n",
    "N = 3\n",
    " \n",
    "# A, C, B are the name of rods\n",
    "TowerOfHanoi(N, 'A', 'C', 'B')"
   ]
  },
  {
   "cell_type": "code",
   "execution_count": 16,
   "id": "e089a624",
   "metadata": {},
   "outputs": [
    {
     "name": "stdout",
     "output_type": "stream",
     "text": [
      "ABC/-AK/L-*\n"
     ]
    }
   ],
   "source": [
    "#read about the infix,prefix and postfix expressions.write a program to convert post to prefix expresion.\n",
    "s = \"*-A/BC-/AKL\"\n",
    " \n",
    "stack = []\n",
    " \n",
    "operators = set(['+', '-', '*', '/', '^'])\n",
    " \n",
    "# Reversing the order\n",
    "s = s[::-1]\n",
    "for i in s:\n",
    " \n",
    "    # if token is operator\n",
    "    if i in operators:\n",
    " \n",
    "        # pop 2 elements from stack\n",
    "        a = stack.pop()\n",
    "        b = stack.pop()\n",
    " \n",
    "        # concatenate them as operand1 +\n",
    "        # operand2 + operator\n",
    "        temp = a+b+i\n",
    "        stack.append(temp)\n",
    " \n",
    "    # else if operand\n",
    "    else:\n",
    "        stack.append(i)\n",
    " \n",
    "#printing final output\n",
    "print(*stack)"
   ]
  },
  {
   "cell_type": "code",
   "execution_count": 19,
   "id": "2ca6cca8",
   "metadata": {},
   "outputs": [
    {
     "name": "stdout",
     "output_type": "stream",
     "text": [
      "((A-(B/C))*((A/K)-L))\n"
     ]
    }
   ],
   "source": [
    "#write a program to convert prefix expression to in fix expression.\n",
    "def prefixToInfix(prefix):\n",
    "    stack = []\n",
    "     \n",
    "    # read prefix in reverse order\n",
    "    i = len(prefix) - 1\n",
    "    while i >= 0:\n",
    "        if not isOperator(prefix[i]):\n",
    "             \n",
    "            # symbol is operand\n",
    "            stack.append(prefix[i])\n",
    "            i -= 1\n",
    "        else:\n",
    "           \n",
    "            # symbol is operator\n",
    "            str = \"(\" + stack.pop() + prefix[i] + stack.pop() + \")\"\n",
    "            stack.append(str)\n",
    "            i -= 1\n",
    "     \n",
    "    return stack.pop()\n",
    " \n",
    "def isOperator(c):\n",
    "    if c == \"*\" or c == \"+\" or c == \"-\" or c == \"/\" or c == \"^\" or c == \"(\" or c == \")\":\n",
    "        return True\n",
    "    else:\n",
    "        return False\n",
    "if __name__==\"__main__\":\n",
    "    str = \"*-A/BC-/AKL\"\n",
    "    print(prefixToInfix(str))"
   ]
  },
  {
   "cell_type": "code",
   "execution_count": 1,
   "id": "c047a39e",
   "metadata": {},
   "outputs": [
    {
     "name": "stdout",
     "output_type": "stream",
     "text": [
      "{[]{()}} - Balanced\n",
      "[{}{})(] - Unbalanced\n",
      "((() - Unbalanced\n"
     ]
    }
   ],
   "source": [
    "#write a program to check if all the brackets are closed in a given code snippet.\n",
    "open_list = [\"[\",\"{\",\"(\"]\n",
    "close_list = [\"]\",\"}\",\")\"]\n",
    "  \n",
    "# Function to check parentheses\n",
    "def check(myStr):\n",
    "    stack = []\n",
    "    for i in myStr:\n",
    "        if i in open_list:\n",
    "            stack.append(i)\n",
    "        elif i in close_list:\n",
    "            pos = close_list.index(i)\n",
    "            if ((len(stack) > 0) and\n",
    "                (open_list[pos] == stack[len(stack)-1])):\n",
    "                stack.pop()\n",
    "            else:\n",
    "                return \"Unbalanced\"\n",
    "    if len(stack) == 0:\n",
    "        return \"Balanced\"\n",
    "    else:\n",
    "        return \"Unbalanced\"\n",
    "string = \"{[]{()}}\"\n",
    "print(string,\"-\", check(string))\n",
    "  \n",
    "string = \"[{}{})(]\"\n",
    "print(string,\"-\", check(string))\n",
    "  \n",
    "string = \"((()\"\n",
    "print(string,\"-\",check(string))"
   ]
  },
  {
   "cell_type": "code",
   "execution_count": 28,
   "id": "d5e44d36",
   "metadata": {},
   "outputs": [
    {
     "name": "stdout",
     "output_type": "stream",
     "text": [
      "Original Stack \n",
      "(1) (2) (3) (4) \n",
      "Reversed Stack \n",
      "(4) (3) (2) (1) \n"
     ]
    }
   ],
   "source": [
    "#write a program to reverse a stack.\n",
    "def insertAtBottom(stack, item):\n",
    "    if isEmpty(stack):\n",
    "        push(stack, item)\n",
    "    else:\n",
    "        temp = pop(stack)\n",
    "        insertAtBottom(stack, item)\n",
    "        push(stack, temp)\n",
    "def reverse(stack):\n",
    "    if not isEmpty(stack):\n",
    "        temp = pop(stack)\n",
    "        reverse(stack)\n",
    "        insertAtBottom(stack, temp)\n",
    "def createStack():\n",
    "    stack = []\n",
    "    return stack\n",
    "def isEmpty(stack):\n",
    "    return len(stack) == 0\n",
    " \n",
    "def push(stack, item):\n",
    "    stack.append(item)\n",
    "def pop(stack):\n",
    " \n",
    "    # If stack is empty\n",
    "    # then error\n",
    "    if(isEmpty(stack)):\n",
    "        print(\"Stack Underflow \")\n",
    "        exit(1)\n",
    " \n",
    "    return stack.pop()\n",
    "def prints(stack):\n",
    "    for i in range(len(stack)-1, -1, -1):\n",
    "        print(stack[i], end=' ')\n",
    "    print()\n",
    " \n",
    " \n",
    "stack = createStack()\n",
    "push(stack, \"(4)\")\n",
    "push(stack,\"(3)\" )\n",
    "push(stack,\"(2)\")\n",
    "push(stack, \"(1)\")\n",
    "print(\"Original Stack \")\n",
    "prints(stack) \n",
    "reverse(stack)\n",
    "print(\"Reversed Stack \")\n",
    "prints(stack)"
   ]
  },
  {
   "cell_type": "code",
   "execution_count": null,
   "id": "d9df1fe0",
   "metadata": {},
   "outputs": [
    {
     "name": "stdout",
     "output_type": "stream",
     "text": [
      "Smallest number I can compute: 5e-324\n",
      "\n"
     ]
    }
   ],
   "source": [
    "#write  a program a find the smallest number using a stack.\n",
    "from os import system\n",
    "x = 76556758478567587\n",
    "while True:\n",
    "    x = x/2\n",
    "    if x/2 == 0.0:\n",
    "        break\n",
    "\n",
    "print(\"Smallest number I can compute:\", x)\n",
    "print()\n",
    "z = 1\n",
    "while True:\n",
    "    try:\n",
    "        z = z+1\n",
    "    except OverflowError:\n",
    "        z = z-1\n",
    "        break\n",
    "\n",
    "print(str(x) + \" divided by \" + str(z) + \" is...\")\n",
    "z = x/z\n",
    "print(z)\n",
    "system(\"pause >nul\")"
   ]
  },
  {
   "cell_type": "code",
   "execution_count": null,
   "id": "02cdc763",
   "metadata": {},
   "outputs": [],
   "source": []
  }
 ],
 "metadata": {
  "kernelspec": {
   "display_name": "Python 3 (ipykernel)",
   "language": "python",
   "name": "python3"
  },
  "language_info": {
   "codemirror_mode": {
    "name": "ipython",
    "version": 3
   },
   "file_extension": ".py",
   "mimetype": "text/x-python",
   "name": "python",
   "nbconvert_exporter": "python",
   "pygments_lexer": "ipython3",
   "version": "3.9.12"
  }
 },
 "nbformat": 4,
 "nbformat_minor": 5
}
